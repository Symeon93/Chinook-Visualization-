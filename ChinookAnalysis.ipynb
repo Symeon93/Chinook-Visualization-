{
  "nbformat": 4,
  "nbformat_minor": 0,
  "metadata": {
    "kernelspec": {
      "display_name": "Python",
      "language": "python",
      "name": "conda-env-python-py"
    },
    "language_info": {
      "codemirror_mode": {
        "name": "ipython",
        "version": 3
      },
      "file_extension": ".py",
      "mimetype": "text/x-python",
      "name": "python",
      "nbconvert_exporter": "python",
      "pygments_lexer": "ipython3",
      "version": "3.6.10"
    },
    "colab": {
      "name": "ChinookAnalysis.ipynb",
      "provenance": []
    }
  },
  "cells": [
    {
      "cell_type": "code",
      "metadata": {
        "id": "6qT9o0HgMQLZ",
        "colab_type": "code",
        "colab": {}
      },
      "source": [
        "%%capture\n",
        "%load_ext sql\n",
        "%sql sqlite:///chinook.db\n",
        "    \n",
        "#pip install ipython-sql comes installed in the jupyter lab, we only need to download sqlalchemy.\n",
        "#This is package tested thoroughly with SQLite, MySQL and Postgre databases."
      ],
      "execution_count": null,
      "outputs": []
    },
    {
      "cell_type": "code",
      "metadata": {
        "id": "B_YC97l9MQLg",
        "colab_type": "code",
        "colab": {},
        "outputId": "c73b6096-0a98-4a91-9484-48016f6bafa6"
      },
      "source": [
        "%%sql\n",
        "SELECT \n",
        "    name,\n",
        "    type\n",
        "FROM sqlite_master\n",
        "WHERE type IN (\"table\", \"view\")\n",
        "\n",
        "--Here we check our schema"
      ],
      "execution_count": null,
      "outputs": [
        {
          "output_type": "stream",
          "text": [
            " * sqlite:///chinook.db\n",
            "Done.\n"
          ],
          "name": "stdout"
        },
        {
          "output_type": "execute_result",
          "data": {
            "text/html": [
              "<table>\n",
              "    <tr>\n",
              "        <th>name</th>\n",
              "        <th>type</th>\n",
              "    </tr>\n",
              "    <tr>\n",
              "        <td>album</td>\n",
              "        <td>table</td>\n",
              "    </tr>\n",
              "    <tr>\n",
              "        <td>artist</td>\n",
              "        <td>table</td>\n",
              "    </tr>\n",
              "    <tr>\n",
              "        <td>customer</td>\n",
              "        <td>table</td>\n",
              "    </tr>\n",
              "    <tr>\n",
              "        <td>employee</td>\n",
              "        <td>table</td>\n",
              "    </tr>\n",
              "    <tr>\n",
              "        <td>genre</td>\n",
              "        <td>table</td>\n",
              "    </tr>\n",
              "    <tr>\n",
              "        <td>invoice</td>\n",
              "        <td>table</td>\n",
              "    </tr>\n",
              "    <tr>\n",
              "        <td>invoice_line</td>\n",
              "        <td>table</td>\n",
              "    </tr>\n",
              "    <tr>\n",
              "        <td>media_type</td>\n",
              "        <td>table</td>\n",
              "    </tr>\n",
              "    <tr>\n",
              "        <td>playlist</td>\n",
              "        <td>table</td>\n",
              "    </tr>\n",
              "    <tr>\n",
              "        <td>playlist_track</td>\n",
              "        <td>table</td>\n",
              "    </tr>\n",
              "    <tr>\n",
              "        <td>track</td>\n",
              "        <td>table</td>\n",
              "    </tr>\n",
              "</table>"
            ],
            "text/plain": [
              "[('album', 'table'),\n",
              " ('artist', 'table'),\n",
              " ('customer', 'table'),\n",
              " ('employee', 'table'),\n",
              " ('genre', 'table'),\n",
              " ('invoice', 'table'),\n",
              " ('invoice_line', 'table'),\n",
              " ('media_type', 'table'),\n",
              " ('playlist', 'table'),\n",
              " ('playlist_track', 'table'),\n",
              " ('track', 'table')]"
            ]
          },
          "metadata": {
            "tags": []
          },
          "execution_count": 14
        }
      ]
    },
    {
      "cell_type": "code",
      "metadata": {
        "id": "SV9I0pc3MQLk",
        "colab_type": "code",
        "colab": {},
        "outputId": "0faf950a-6697-4e9f-8d77-a4f998bd2336"
      },
      "source": [
        "%%sql \n",
        "\n",
        "WITH customer_total_purchases AS\n",
        "    (\n",
        "     SELECT \n",
        "        c.customer_id customer_id,\n",
        "        SUM(i.total) total_purchases,\n",
        "        c.support_rep_id support_rep_id\n",
        "        FROM customer c\n",
        "        INNER JOIN invoice i ON c.customer_id = i.customer_id\n",
        "        GROUP BY 1\n",
        "    )\n",
        "\n",
        "SELECT \n",
        "    e.employee_id employee_id,\n",
        "    e.first_name || \" \" ||e.last_name full_name,\n",
        "    SUM(ctp.total_purchases) total_purchases,\n",
        "    ROUND (CAST (SUM(ctp.total_purchases) AS FLOAT)/( \n",
        "                                              SELECT SUM(total) FROM invoice  \n",
        "                                             ), 3)  percent \n",
        "   \n",
        "FROM employee e \n",
        "INNER JOIN customer_total_purchases ctp ON e.employee_id = ctp.support_rep_id\n",
        "GROUP BY 1\n",
        "ORDER BY 3 DESC\n",
        "\n",
        "/*\n",
        "All employees perform equally  good 1/3 of the total \n",
        "ledger produced. \n",
        "*/"
      ],
      "execution_count": null,
      "outputs": [
        {
          "output_type": "stream",
          "text": [
            " * sqlite:///chinook.db\n",
            "Done.\n"
          ],
          "name": "stdout"
        },
        {
          "output_type": "execute_result",
          "data": {
            "text/html": [
              "<table>\n",
              "    <tr>\n",
              "        <th>employee_id</th>\n",
              "        <th>full_name</th>\n",
              "        <th>total_purchases</th>\n",
              "        <th>percent</th>\n",
              "    </tr>\n",
              "    <tr>\n",
              "        <td>3</td>\n",
              "        <td>Jane Peacock</td>\n",
              "        <td>1731.5099999999998</td>\n",
              "        <td>0.368</td>\n",
              "    </tr>\n",
              "    <tr>\n",
              "        <td>4</td>\n",
              "        <td>Margaret Park</td>\n",
              "        <td>1584.0000000000002</td>\n",
              "        <td>0.336</td>\n",
              "    </tr>\n",
              "    <tr>\n",
              "        <td>5</td>\n",
              "        <td>Steve Johnson</td>\n",
              "        <td>1393.92</td>\n",
              "        <td>0.296</td>\n",
              "    </tr>\n",
              "</table>"
            ],
            "text/plain": [
              "[(3, 'Jane Peacock', 1731.5099999999998, 0.368),\n",
              " (4, 'Margaret Park', 1584.0000000000002, 0.336),\n",
              " (5, 'Steve Johnson', 1393.92, 0.296)]"
            ]
          },
          "metadata": {
            "tags": []
          },
          "execution_count": 15
        }
      ]
    },
    {
      "cell_type": "code",
      "metadata": {
        "id": "1bxTW--fMQLn",
        "colab_type": "code",
        "colab": {},
        "outputId": "46d36f98-d649-492d-f66c-54e29f61b283"
      },
      "source": [
        "%%sql\n",
        "\n",
        "WITH\n",
        "    count_inv_USA AS \n",
        "    (\n",
        "    SELECT \n",
        "        g.genre_id genre_id,\n",
        "        g.name genre_name,\n",
        "        COUNT(il.quantity) sales_per_genre\n",
        "    FROM genre g \n",
        "    INNER JOIN track t ON t.genre_id = g.genre_id\n",
        "    INNER JOIN invoice_line il ON il.track_id = t.track_id\n",
        "    INNER JOIN invoice i ON i.invoice_id = il.invoice_id\n",
        "    INNER JOIN customer c ON c.customer_id = i.customer_id\n",
        "    WHERE c.country = \"USA\"\n",
        "    GROUP BY 1\n",
        "    ),\n",
        "    total_inv AS\n",
        "    (\n",
        "    SELECT \n",
        "    c.country country,\n",
        "    COUNT(il.quantity) total_quantity\n",
        "    FROM invoice_line il \n",
        "    INNER JOIN invoice i ON i.invoice_id = il.invoice_id\n",
        "    INNER JOIN customer c ON c.customer_id = i.customer_id\n",
        "    GROUP BY 1\n",
        "    )\n",
        "    \n",
        "SELECT \n",
        "    ciusa.genre_name genre_name,\n",
        "    ciusa.sales_per_genre,\n",
        "    CAST(ciusa.sales_per_genre AS FLOAT)/(\n",
        "                                          SELECT ti.total_quantity\n",
        "                                          FROM total_inv ti\n",
        "                                          WHERE ti.country = \"USA\"\n",
        "                                          ) percent\n",
        "FROM count_inv_USA ciusa\n",
        "GROUP BY 1 \n",
        "ORDER BY 2 DESC\n",
        "LIMIT 5\n",
        "    \n",
        "/* \n",
        "Considering that our online store plays more than one \n",
        "genres in music, expanding our catalogue in terms of \n",
        "trends is Country specific (and probably city specific).\n",
        "On a first approximation we find the most popular \n",
        "kind of music in the USA, this will give us a good \n",
        "direction on which areas we should invest.\n",
        "A second good approximation would have been to analyze the \n",
        "trends in terms of seasoning.\n",
        "\n",
        "*/"
      ],
      "execution_count": null,
      "outputs": [
        {
          "output_type": "stream",
          "text": [
            " * sqlite:///chinook.db\n",
            "Done.\n"
          ],
          "name": "stdout"
        },
        {
          "output_type": "execute_result",
          "data": {
            "text/html": [
              "<table>\n",
              "    <tr>\n",
              "        <th>genre_name</th>\n",
              "        <th>sales_per_genre</th>\n",
              "        <th>percent</th>\n",
              "    </tr>\n",
              "    <tr>\n",
              "        <td>Rock</td>\n",
              "        <td>561</td>\n",
              "        <td>0.5337773549000951</td>\n",
              "    </tr>\n",
              "    <tr>\n",
              "        <td>Alternative &amp; Punk</td>\n",
              "        <td>130</td>\n",
              "        <td>0.12369172216936251</td>\n",
              "    </tr>\n",
              "    <tr>\n",
              "        <td>Metal</td>\n",
              "        <td>124</td>\n",
              "        <td>0.11798287345385347</td>\n",
              "    </tr>\n",
              "    <tr>\n",
              "        <td>R&amp;B/Soul</td>\n",
              "        <td>53</td>\n",
              "        <td>0.05042816365366318</td>\n",
              "    </tr>\n",
              "    <tr>\n",
              "        <td>Blues</td>\n",
              "        <td>36</td>\n",
              "        <td>0.03425309229305423</td>\n",
              "    </tr>\n",
              "</table>"
            ],
            "text/plain": [
              "[('Rock', 561, 0.5337773549000951),\n",
              " ('Alternative & Punk', 130, 0.12369172216936251),\n",
              " ('Metal', 124, 0.11798287345385347),\n",
              " ('R&B/Soul', 53, 0.05042816365366318),\n",
              " ('Blues', 36, 0.03425309229305423)]"
            ]
          },
          "metadata": {
            "tags": []
          },
          "execution_count": 16
        }
      ]
    },
    {
      "cell_type": "code",
      "metadata": {
        "id": "q0L92suaMQLq",
        "colab_type": "code",
        "colab": {},
        "outputId": "7bf377e4-bad2-4034-f944-9e5a87eb882c"
      },
      "source": [
        "%%sql\n",
        "WITH count_other AS\n",
        "    (\n",
        "    SELECT \n",
        "        c.customer_id customer_id,\n",
        "        il.*,\n",
        "        CASE\n",
        "            WHEN\n",
        "            (\n",
        "            SELECT COUNT(*) FROM customer \n",
        "            WHERE country = c.country\n",
        "            ) =1 THEN \"OTHER\"\n",
        "            ELSE c.country\n",
        "        END AS country\n",
        "    FROM customer c \n",
        "    INNER JOIN invoice i ON i.customer_id = c.customer_id\n",
        "    INNER JOIN invoice_line il ON i.invoice_id  = il.invoice_id\n",
        "    )\n",
        "    \n",
        "SELECT\n",
        "    country,\n",
        "    customers,\n",
        "    total_sales,\n",
        "    average_sales_per_customer,\n",
        "    average_quantity_per_invoice\n",
        "FROM (\n",
        "      SELECT \n",
        "           country,\n",
        "           COUNT(DISTINcT(customer_id)) customers,\n",
        "           SUM(unit_price) total_sales,\n",
        "           CAST(SUM(unit_price) AS FLOAT)/ COUNT(DISTINCT(customer_id)) average_sales_per_customer,  \n",
        "           CAST(SUM(unit_price) AS FLOAT)/COUNT(DISTINCT(invoice_id)) average_quantity_per_invoice,\n",
        "           CASE \n",
        "                WHEN country = \"OTHER\" THEN 1\n",
        "                ELSE 0\n",
        "            END AS sort\n",
        "        FROM count_other \n",
        "        GROUP BY 1\n",
        "        ORDER BY sort ASC, total_sales DESC\n",
        "      )\n",
        "/*\n",
        "Almost obvious to analyze the total sales and number of customers per country. At the same \n",
        "time we calculate the units sold per customer and invoice for each country. Chinook \n",
        "contains countries with one customer only, we would like to neglect these examples \n",
        "from the whole analysis, hence we built a tuple \"other\" containing all of these\n",
        "instances.\n",
        "/*\n",
        "\n",
        "\n"
      ],
      "execution_count": null,
      "outputs": [
        {
          "output_type": "stream",
          "text": [
            " * sqlite:///chinook.db\n",
            "Done.\n"
          ],
          "name": "stdout"
        },
        {
          "output_type": "execute_result",
          "data": {
            "text/html": [
              "<table>\n",
              "    <tr>\n",
              "        <th>country</th>\n",
              "        <th>customers</th>\n",
              "        <th>total_sales</th>\n",
              "        <th>average_sales_per_customer</th>\n",
              "        <th>average_quantity_per_invoice</th>\n",
              "    </tr>\n",
              "    <tr>\n",
              "        <td>USA</td>\n",
              "        <td>13</td>\n",
              "        <td>1040.490000000008</td>\n",
              "        <td>80.03769230769292</td>\n",
              "        <td>7.942671755725252</td>\n",
              "    </tr>\n",
              "    <tr>\n",
              "        <td>Canada</td>\n",
              "        <td>8</td>\n",
              "        <td>535.5900000000034</td>\n",
              "        <td>66.94875000000043</td>\n",
              "        <td>7.047236842105309</td>\n",
              "    </tr>\n",
              "    <tr>\n",
              "        <td>Brazil</td>\n",
              "        <td>5</td>\n",
              "        <td>427.68000000000245</td>\n",
              "        <td>85.53600000000048</td>\n",
              "        <td>7.011147540983647</td>\n",
              "    </tr>\n",
              "    <tr>\n",
              "        <td>France</td>\n",
              "        <td>5</td>\n",
              "        <td>389.0700000000021</td>\n",
              "        <td>77.81400000000042</td>\n",
              "        <td>7.781400000000042</td>\n",
              "    </tr>\n",
              "    <tr>\n",
              "        <td>Germany</td>\n",
              "        <td>4</td>\n",
              "        <td>334.6200000000016</td>\n",
              "        <td>83.6550000000004</td>\n",
              "        <td>8.161463414634186</td>\n",
              "    </tr>\n",
              "    <tr>\n",
              "        <td>Czech Republic</td>\n",
              "        <td>2</td>\n",
              "        <td>273.24000000000103</td>\n",
              "        <td>136.62000000000052</td>\n",
              "        <td>9.108000000000034</td>\n",
              "    </tr>\n",
              "    <tr>\n",
              "        <td>United Kingdom</td>\n",
              "        <td>3</td>\n",
              "        <td>245.52000000000078</td>\n",
              "        <td>81.84000000000026</td>\n",
              "        <td>8.768571428571457</td>\n",
              "    </tr>\n",
              "    <tr>\n",
              "        <td>Portugal</td>\n",
              "        <td>2</td>\n",
              "        <td>185.13000000000022</td>\n",
              "        <td>92.56500000000011</td>\n",
              "        <td>6.3837931034482835</td>\n",
              "    </tr>\n",
              "    <tr>\n",
              "        <td>India</td>\n",
              "        <td>2</td>\n",
              "        <td>183.1500000000002</td>\n",
              "        <td>91.5750000000001</td>\n",
              "        <td>8.72142857142858</td>\n",
              "    </tr>\n",
              "    <tr>\n",
              "        <td>OTHER</td>\n",
              "        <td>15</td>\n",
              "        <td>1094.9400000000085</td>\n",
              "        <td>72.99600000000056</td>\n",
              "        <td>7.448571428571486</td>\n",
              "    </tr>\n",
              "</table>"
            ],
            "text/plain": [
              "[('USA', 13, 1040.490000000008, 80.03769230769292, 7.942671755725252),\n",
              " ('Canada', 8, 535.5900000000034, 66.94875000000043, 7.047236842105309),\n",
              " ('Brazil', 5, 427.68000000000245, 85.53600000000048, 7.011147540983647),\n",
              " ('France', 5, 389.0700000000021, 77.81400000000042, 7.781400000000042),\n",
              " ('Germany', 4, 334.6200000000016, 83.6550000000004, 8.161463414634186),\n",
              " ('Czech Republic', 2, 273.24000000000103, 136.62000000000052, 9.108000000000034),\n",
              " ('United Kingdom', 3, 245.52000000000078, 81.84000000000026, 8.768571428571457),\n",
              " ('Portugal', 2, 185.13000000000022, 92.56500000000011, 6.3837931034482835),\n",
              " ('India', 2, 183.1500000000002, 91.5750000000001, 8.72142857142858),\n",
              " ('OTHER', 15, 1094.9400000000085, 72.99600000000056, 7.448571428571486)]"
            ]
          },
          "metadata": {
            "tags": []
          },
          "execution_count": 7
        }
      ]
    },
    {
      "cell_type": "code",
      "metadata": {
        "id": "lBcJeOwKMQLt",
        "colab_type": "code",
        "colab": {}
      },
      "source": [
        ""
      ],
      "execution_count": null,
      "outputs": []
    }
  ]
}